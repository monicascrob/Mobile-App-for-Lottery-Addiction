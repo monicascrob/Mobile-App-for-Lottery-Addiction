{
 "cells": [
  {
   "cell_type": "markdown",
   "metadata": {},
   "source": [
    "# Mobile app for Lottery Addiction\n",
    "\n",
    "A medical institute for preventing and treating gambling addiction wants to build a dedicated mobile app to help lottery addicts better estimate their chances of winning. They have a team of engineers to build it, but need help creating the logical core of the app and calculate probabilities.\n",
    "\n",
    "For the first version of the app, they want us to focus on the 6/49 lottery and help users answer the following questions:\n",
    " - What is the probability of winning the big prize with a single ticket?\n",
    " - What is the probability of winning the big prize if we play 40 different tickets (or any number)?\n",
    " - What is the probability of having at least five (or four, or htree, or two) winning numbers on a single ticket?\n",
    " \n",
    "The institute wants us to use data coming from the national 6/49 lottery game in Canada. The data set has data for 3665 drawings from 1982 to 2018, [here](https://www.kaggle.com/datascienceai/lottery-dataset)\n",
    "\n"
   ]
  },
  {
   "cell_type": "markdown",
   "metadata": {},
   "source": [
    "We will start by coding 2 functions that we are going to use repeatedly:\n",
    " - A function that calculates factorials\n",
    " - A function that calculates combinations"
   ]
  },
  {
   "cell_type": "code",
   "execution_count": 1,
   "metadata": {
    "collapsed": true
   },
   "outputs": [],
   "source": [
    "def factorial(n):\n",
    "    fact = 1\n",
    "    for i in range(n, 0, -1):\n",
    "        fact *= i\n",
    "    return fact\n",
    "\n",
    "def combinations(n, k):\n",
    "    numerator = factorial(n)\n",
    "    denominator = factorial(k) * factorial(n-k)\n",
    "    return numerator/denominator"
   ]
  },
  {
   "cell_type": "markdown",
   "metadata": {},
   "source": [
    "The next step will be writing a function that calculate the probability of winning the big prize. \n",
    "In the 6/49 lottery 6 numbers are drawn from a set of 49 numbers that range from 1 to 49. The winning tickets includes all the six number drawn.\n",
    "\n",
    "We got some recommendations from the engineering team when writing the function:\n",
    " - Inside the app, the user will input 6 different numbers from 1 to 49\n",
    " - The six number will come as a Python list, which will serve as the single input to our function\n",
    " - The engineering team wants the function to print the probability value in a friendly way, so people with no probability training to be able to understand"
   ]
  },
  {
   "cell_type": "code",
   "execution_count": 2,
   "metadata": {
    "collapsed": true
   },
   "outputs": [],
   "source": [
    "def one_ticket_probability(list_1):\n",
    "    possible_outcomes = combinations(49, 6)\n",
    "    probability_ticket = 1/possible_outcomes \n",
    "    percentage = probability_ticket*100\n",
    "    \n",
    "    print('Your chances of winning the big prize with the numbers {} are {:.7f}%. You have 1 in {:,} chances to win.'.format(list_1, percentage, int(possible_outcomes)))\n",
    "    "
   ]
  },
  {
   "cell_type": "code",
   "execution_count": 3,
   "metadata": {
    "collapsed": false
   },
   "outputs": [
    {
     "name": "stdout",
     "output_type": "stream",
     "text": [
      "Your chances of winning the big prize with the numbers [1, 5, 45, 11, 9, 7] are 0.0000072%. You have 1 in 13,983,816 chances to win.\n"
     ]
    }
   ],
   "source": [
    "test = [1, 5, 45, 11, 9, 7]\n",
    "one_ticket_probability(test)"
   ]
  },
  {
   "cell_type": "markdown",
   "metadata": {},
   "source": [
    "The initial request was also that user should be able to compare their ticket against the lottery data in Canada and determine if they would have won or not. "
   ]
  },
  {
   "cell_type": "markdown",
   "metadata": {},
   "source": [
    "# Exploring the data for Canada lottery"
   ]
  },
  {
   "cell_type": "code",
   "execution_count": 4,
   "metadata": {
    "collapsed": false
   },
   "outputs": [
    {
     "data": {
      "text/plain": [
       "(3665, 11)"
      ]
     },
     "execution_count": 4,
     "metadata": {},
     "output_type": "execute_result"
    }
   ],
   "source": [
    "import pandas as pd\n",
    "canada_lottery = pd.read_csv('649.csv')\n",
    "canada_lottery.shape"
   ]
  },
  {
   "cell_type": "code",
   "execution_count": 5,
   "metadata": {
    "collapsed": false
   },
   "outputs": [
    {
     "data": {
      "text/html": [
       "<div>\n",
       "<style scoped>\n",
       "    .dataframe tbody tr th:only-of-type {\n",
       "        vertical-align: middle;\n",
       "    }\n",
       "\n",
       "    .dataframe tbody tr th {\n",
       "        vertical-align: top;\n",
       "    }\n",
       "\n",
       "    .dataframe thead th {\n",
       "        text-align: right;\n",
       "    }\n",
       "</style>\n",
       "<table border=\"1\" class=\"dataframe\">\n",
       "  <thead>\n",
       "    <tr style=\"text-align: right;\">\n",
       "      <th></th>\n",
       "      <th>PRODUCT</th>\n",
       "      <th>DRAW NUMBER</th>\n",
       "      <th>SEQUENCE NUMBER</th>\n",
       "      <th>DRAW DATE</th>\n",
       "      <th>NUMBER DRAWN 1</th>\n",
       "      <th>NUMBER DRAWN 2</th>\n",
       "      <th>NUMBER DRAWN 3</th>\n",
       "      <th>NUMBER DRAWN 4</th>\n",
       "      <th>NUMBER DRAWN 5</th>\n",
       "      <th>NUMBER DRAWN 6</th>\n",
       "      <th>BONUS NUMBER</th>\n",
       "    </tr>\n",
       "  </thead>\n",
       "  <tbody>\n",
       "    <tr>\n",
       "      <th>0</th>\n",
       "      <td>649</td>\n",
       "      <td>1</td>\n",
       "      <td>0</td>\n",
       "      <td>6/12/1982</td>\n",
       "      <td>3</td>\n",
       "      <td>11</td>\n",
       "      <td>12</td>\n",
       "      <td>14</td>\n",
       "      <td>41</td>\n",
       "      <td>43</td>\n",
       "      <td>13</td>\n",
       "    </tr>\n",
       "    <tr>\n",
       "      <th>1</th>\n",
       "      <td>649</td>\n",
       "      <td>2</td>\n",
       "      <td>0</td>\n",
       "      <td>6/19/1982</td>\n",
       "      <td>8</td>\n",
       "      <td>33</td>\n",
       "      <td>36</td>\n",
       "      <td>37</td>\n",
       "      <td>39</td>\n",
       "      <td>41</td>\n",
       "      <td>9</td>\n",
       "    </tr>\n",
       "    <tr>\n",
       "      <th>2</th>\n",
       "      <td>649</td>\n",
       "      <td>3</td>\n",
       "      <td>0</td>\n",
       "      <td>6/26/1982</td>\n",
       "      <td>1</td>\n",
       "      <td>6</td>\n",
       "      <td>23</td>\n",
       "      <td>24</td>\n",
       "      <td>27</td>\n",
       "      <td>39</td>\n",
       "      <td>34</td>\n",
       "    </tr>\n",
       "  </tbody>\n",
       "</table>\n",
       "</div>"
      ],
      "text/plain": [
       "   PRODUCT  DRAW NUMBER  SEQUENCE NUMBER  DRAW DATE  NUMBER DRAWN 1  \\\n",
       "0      649            1                0  6/12/1982               3   \n",
       "1      649            2                0  6/19/1982               8   \n",
       "2      649            3                0  6/26/1982               1   \n",
       "\n",
       "   NUMBER DRAWN 2  NUMBER DRAWN 3  NUMBER DRAWN 4  NUMBER DRAWN 5  \\\n",
       "0              11              12              14              41   \n",
       "1              33              36              37              39   \n",
       "2               6              23              24              27   \n",
       "\n",
       "   NUMBER DRAWN 6  BONUS NUMBER  \n",
       "0              43            13  \n",
       "1              41             9  \n",
       "2              39            34  "
      ]
     },
     "execution_count": 5,
     "metadata": {},
     "output_type": "execute_result"
    }
   ],
   "source": [
    "canada_lottery.head(3)\n"
   ]
  },
  {
   "cell_type": "code",
   "execution_count": 6,
   "metadata": {
    "collapsed": false
   },
   "outputs": [
    {
     "data": {
      "text/html": [
       "<div>\n",
       "<style scoped>\n",
       "    .dataframe tbody tr th:only-of-type {\n",
       "        vertical-align: middle;\n",
       "    }\n",
       "\n",
       "    .dataframe tbody tr th {\n",
       "        vertical-align: top;\n",
       "    }\n",
       "\n",
       "    .dataframe thead th {\n",
       "        text-align: right;\n",
       "    }\n",
       "</style>\n",
       "<table border=\"1\" class=\"dataframe\">\n",
       "  <thead>\n",
       "    <tr style=\"text-align: right;\">\n",
       "      <th></th>\n",
       "      <th>PRODUCT</th>\n",
       "      <th>DRAW NUMBER</th>\n",
       "      <th>SEQUENCE NUMBER</th>\n",
       "      <th>DRAW DATE</th>\n",
       "      <th>NUMBER DRAWN 1</th>\n",
       "      <th>NUMBER DRAWN 2</th>\n",
       "      <th>NUMBER DRAWN 3</th>\n",
       "      <th>NUMBER DRAWN 4</th>\n",
       "      <th>NUMBER DRAWN 5</th>\n",
       "      <th>NUMBER DRAWN 6</th>\n",
       "      <th>BONUS NUMBER</th>\n",
       "    </tr>\n",
       "  </thead>\n",
       "  <tbody>\n",
       "    <tr>\n",
       "      <th>3662</th>\n",
       "      <td>649</td>\n",
       "      <td>3589</td>\n",
       "      <td>0</td>\n",
       "      <td>6/13/2018</td>\n",
       "      <td>6</td>\n",
       "      <td>22</td>\n",
       "      <td>24</td>\n",
       "      <td>31</td>\n",
       "      <td>32</td>\n",
       "      <td>34</td>\n",
       "      <td>16</td>\n",
       "    </tr>\n",
       "    <tr>\n",
       "      <th>3663</th>\n",
       "      <td>649</td>\n",
       "      <td>3590</td>\n",
       "      <td>0</td>\n",
       "      <td>6/16/2018</td>\n",
       "      <td>2</td>\n",
       "      <td>15</td>\n",
       "      <td>21</td>\n",
       "      <td>31</td>\n",
       "      <td>38</td>\n",
       "      <td>49</td>\n",
       "      <td>8</td>\n",
       "    </tr>\n",
       "    <tr>\n",
       "      <th>3664</th>\n",
       "      <td>649</td>\n",
       "      <td>3591</td>\n",
       "      <td>0</td>\n",
       "      <td>6/20/2018</td>\n",
       "      <td>14</td>\n",
       "      <td>24</td>\n",
       "      <td>31</td>\n",
       "      <td>35</td>\n",
       "      <td>37</td>\n",
       "      <td>48</td>\n",
       "      <td>17</td>\n",
       "    </tr>\n",
       "  </tbody>\n",
       "</table>\n",
       "</div>"
      ],
      "text/plain": [
       "      PRODUCT  DRAW NUMBER  SEQUENCE NUMBER  DRAW DATE  NUMBER DRAWN 1  \\\n",
       "3662      649         3589                0  6/13/2018               6   \n",
       "3663      649         3590                0  6/16/2018               2   \n",
       "3664      649         3591                0  6/20/2018              14   \n",
       "\n",
       "      NUMBER DRAWN 2  NUMBER DRAWN 3  NUMBER DRAWN 4  NUMBER DRAWN 5  \\\n",
       "3662              22              24              31              32   \n",
       "3663              15              21              31              38   \n",
       "3664              24              31              35              37   \n",
       "\n",
       "      NUMBER DRAWN 6  BONUS NUMBER  \n",
       "3662              34            16  \n",
       "3663              49             8  \n",
       "3664              48            17  "
      ]
     },
     "execution_count": 6,
     "metadata": {},
     "output_type": "execute_result"
    }
   ],
   "source": [
    "canada_lottery.tail(3)"
   ]
  },
  {
   "cell_type": "markdown",
   "metadata": {},
   "source": [
    "Our next step will be writing a function that will compare a user's ticket to this data set and determine if that user would have ever won.\n",
    "\n",
    "The engineering team asked us to consider the following:\n",
    " - The user will input 6 different numbers from 1 to 49\n",
    " - Those 6 numbers will come as a Python list and will be the input to our function\n",
    " - The function will print the number of times the user's combination occurred in the Canada data set and the probability of winning the big prize in the next drawing with that combination. "
   ]
  },
  {
   "cell_type": "markdown",
   "metadata": {},
   "source": [
    "We will first write a question that extracts all winning sets from the Canada data set."
   ]
  },
  {
   "cell_type": "code",
   "execution_count": 7,
   "metadata": {
    "collapsed": false
   },
   "outputs": [
    {
     "data": {
      "text/plain": [
       "0    {3, 41, 11, 12, 43, 14}\n",
       "1    {33, 36, 37, 39, 8, 41}\n",
       "2     {1, 6, 39, 23, 24, 27}\n",
       "3     {3, 9, 10, 43, 13, 20}\n",
       "4    {34, 5, 14, 47, 21, 31}\n",
       "dtype: object"
      ]
     },
     "execution_count": 7,
     "metadata": {},
     "output_type": "execute_result"
    }
   ],
   "source": [
    "def extract_numbers(row):\n",
    "    row = row[4:10]\n",
    "    row = set(row.values)\n",
    "    return row\n",
    "\n",
    "winning_no = canada_lottery.apply(extract_numbers, axis=1)\n",
    "winning_no.head()"
   ]
  },
  {
   "cell_type": "code",
   "execution_count": 8,
   "metadata": {
    "collapsed": false
   },
   "outputs": [],
   "source": [
    "def check_historical_occurence(user_list, winning_list):\n",
    "    user_list = set(user_list)\n",
    "    check_occurence = user_list == winning_list\n",
    "    no_occurences = check_occurence.sum()\n",
    "    \n",
    "    if no_occurences == 0:\n",
    "        print('The combination {} never occured. Your chances to win the big prize in the next drawing with the combination {} are 0.0000072%. You have a 1 in 13,983,816 chances to win.'.format(user_list, user_list))\n",
    "    else:\n",
    "        print('The combination {} occured {} times in the past. Your chances to win the big prize in the next drawing with the combination {} are 0.0000072%. You have a 1 in 13,983,816 chances to win.'.format(user_list, no_occurences, user_list))\n",
    "    \n",
    "    "
   ]
  },
  {
   "cell_type": "code",
   "execution_count": 9,
   "metadata": {
    "collapsed": false
   },
   "outputs": [
    {
     "name": "stdout",
     "output_type": "stream",
     "text": [
      "The combination {1, 5, 7, 9, 11, 45} never occured. Your chances to win the big prize in the next drawing with the combination {1, 5, 7, 9, 11, 45} are 0.0000072%. You have a 1 in 13,983,816 chances to win.\n"
     ]
    }
   ],
   "source": [
    "test = [1, 5, 45, 11, 9, 7]\n",
    "check_historical_occurence(test, winning_no)"
   ]
  },
  {
   "cell_type": "markdown",
   "metadata": {},
   "source": [
    "# Multi-ticket probability\n",
    "\n",
    "Considering that lottery addicts play mor than one ticket, we need to help them estimate if their chances increase significantly if they play more tickets at a time.\n",
    "\n",
    "We will write a function that will allow users to calculate the chances of winning for any number of different tickets, considering these recommendations from the engineering team:\n",
    "- The user will input the number of different tickets they want to play\n",
    "- Our function will see an integer between 1 and 13,983, 816 (the max number of tickets)\n",
    "- The function should print out information about the probability of winning the big prize depending on the number of different tickets played."
   ]
  },
  {
   "cell_type": "code",
   "execution_count": 10,
   "metadata": {
    "collapsed": false
   },
   "outputs": [],
   "source": [
    "def multi_ticket_probability(no_tickets):\n",
    "    possible_outcomes = combinations(49, 6)\n",
    "    probability = no_tickets/possible_outcomes\n",
    "    percentage = probability * 100\n",
    "    \n",
    "    if no_tickets == 1:\n",
    "        print('Your chances to win the big prize with one ticket are {:.6f}%. You have 1 in {:,} to win.'.format(percentage, int(possible_outcomes)))\n",
    "    else:\n",
    "        combinations_simple = round(possible_outcomes/no_tickets)\n",
    "        print('Your chances to win the big prize with {:,} different tickets are {:.6f}%. You have a 1 in {:,} chances to win.'.format(no_tickets, percentage, combinations_simple))\n",
    "    \n",
    "    "
   ]
  },
  {
   "cell_type": "code",
   "execution_count": 11,
   "metadata": {
    "collapsed": false
   },
   "outputs": [
    {
     "name": "stdout",
     "output_type": "stream",
     "text": [
      "Your chances to win the big prize with one ticket are 0.000007%. You have 1 in 13,983,816 to win.\n",
      "\n",
      "\n",
      "Your chances to win the big prize with 10 different tickets are 0.000072%. You have a 1 in 1,398,382 chances to win.\n",
      "\n",
      "\n",
      "Your chances to win the big prize with 100 different tickets are 0.000715%. You have a 1 in 139,838 chances to win.\n",
      "\n",
      "\n",
      "Your chances to win the big prize with 100,000 different tickets are 0.715112%. You have a 1 in 140 chances to win.\n",
      "\n",
      "\n",
      "Your chances to win the big prize with 6,991,908 different tickets are 50.000000%. You have a 1 in 2 chances to win.\n",
      "\n",
      "\n",
      "Your chances to win the big prize with 13,983,816 different tickets are 100.000000%. You have a 1 in 1 chances to win.\n",
      "\n",
      "\n"
     ]
    }
   ],
   "source": [
    "test = [1, 10, 100, 100000, 6991908, 13983816]\n",
    "\n",
    "for value in test:\n",
    "    multi_ticket_probability(value)\n",
    "    print('\\n')"
   ]
  },
  {
   "cell_type": "markdown",
   "metadata": {
    "collapsed": true
   },
   "source": [
    "# Less winning numbers\n",
    "\n",
    "In the last step, we are going to write a function that allows the users to calculate probabilities for 2, 3, 4 or 5 numbers.\n",
    "\n",
    "In most 6/49 lotteries there are smaller prizes if a player;s ticket match 2, 3, 4 or 5 numbers drawn. \n",
    "\n",
    "The engineering team asked as to consider the following:\n",
    "- the user will input six dfferent numbers from 1 to 49 and an integer between 2 and 5that represents the number of winning numbers expected\n",
    "- the function will print information about the probability of having the inputted number of winning numbers"
   ]
  },
  {
   "cell_type": "code",
   "execution_count": 12,
   "metadata": {
    "collapsed": true
   },
   "outputs": [],
   "source": [
    "def probability_less_6(n_winning_numbers):\n",
    "    possible_outcomes = combinations(6, n_winning_numbers)\n",
    "    possible_outcomes_remaining = combinations(43, 6 - n_winning_numbers)\n",
    "    successful_outcomes = possible_outcomes * possible_outcomes_remaining\n",
    "    \n",
    "    combinations_total = combinations(49, 6)    \n",
    "    probability = successful_outcomes / combinations_total\n",
    "    \n",
    "    probability_percentage = probability * 100    \n",
    "    combinations_simplified = round(combinations_total/successful_outcomes)    \n",
    "    print('''Your chances of having {} winning numbers with this ticket are {:.6f}%.\n",
    "You have a 1 in {:,} chances to win.'''.format(n_winning_numbers, probability_percentage,\n",
    "                                                               int(combinations_simplified)))\n",
    "    "
   ]
  },
  {
   "cell_type": "code",
   "execution_count": 14,
   "metadata": {
    "collapsed": false
   },
   "outputs": [
    {
     "name": "stdout",
     "output_type": "stream",
     "text": [
      "Your chances of having 2 winning numbers with this ticket are 13.237803%.\n",
      "You have a 1 in 8 chances to win.\n",
      "\n",
      "\n",
      "Your chances of having 3 winning numbers with this ticket are 1.765040%.\n",
      "You have a 1 in 57 chances to win.\n",
      "\n",
      "\n",
      "Your chances of having 4 winning numbers with this ticket are 0.096862%.\n",
      "You have a 1 in 1,032 chances to win.\n",
      "\n",
      "\n",
      "Your chances of having 5 winning numbers with this ticket are 0.001845%.\n",
      "You have a 1 in 54,201 chances to win.\n",
      "\n",
      "\n"
     ]
    }
   ],
   "source": [
    "for test_input in [2, 3, 4, 5]:\n",
    "    probability_less_6(test_input)\n",
    "    print('\\n')"
   ]
  },
  {
   "cell_type": "markdown",
   "metadata": {},
   "source": [
    "# Conclusions\n",
    "\n",
    "We wrote four main functions:\n",
    "\n",
    "- one_ticket_probability() — calculates the probability of winning the big prize with a single ticket\n",
    "- check_historical_occurrence() — checks whether a certain combination has occurred in the Canada lottery data set\n",
    "- multi_ticket_probability() — calculates the probability for any number of tickets between 1 and 13,983,816\n",
    "- probability_less_6() - takes in an integer between 2 and 5 and prints information about the chances of winning depending on the value of that integer"
   ]
  },
  {
   "cell_type": "markdown",
   "metadata": {},
   "source": [
    "The next step would be getting feedback about our first app and find ways to improve it or add new features."
   ]
  },
  {
   "cell_type": "code",
   "execution_count": null,
   "metadata": {
    "collapsed": true
   },
   "outputs": [],
   "source": []
  }
 ],
 "metadata": {
  "kernelspec": {
   "display_name": "Python 3",
   "language": "python",
   "name": "python3"
  },
  "language_info": {
   "codemirror_mode": {
    "name": "ipython",
    "version": 3
   },
   "file_extension": ".py",
   "mimetype": "text/x-python",
   "name": "python",
   "nbconvert_exporter": "python",
   "pygments_lexer": "ipython3",
   "version": "3.4.3"
  }
 },
 "nbformat": 4,
 "nbformat_minor": 2
}
